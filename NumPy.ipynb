{
 "cells": [
  {
   "cell_type": "markdown",
   "id": "c68650c9-6255-44da-b389-8cb7336f230e",
   "metadata": {},
   "source": [
    "<h1><b>Numpy</b></h1>"
   ]
  },
  {
   "cell_type": "markdown",
   "id": "1b15a084-7d75-4dc0-a53f-43a86be13796",
   "metadata": {},
   "source": [
    "An array is a grid of vlaues and i tconains informaiton about the raw data, how to locate an element, and how to interpret an element.\n",
    "\n",
    "Numpy consumes less memory, which is fast as compared to the python list and is very convenient to use."
   ]
  },
  {
   "cell_type": "code",
   "execution_count": 1,
   "id": "b271dbe4-0392-4785-b94b-b46061f36730",
   "metadata": {},
   "outputs": [
    {
     "name": "stdout",
     "output_type": "stream",
     "text": [
      "Requirement already satisfied: numpy in f:\\python310\\lib\\site-packages (1.23.5)Note: you may need to restart the kernel to use updated packages.\n",
      "\n"
     ]
    },
    {
     "name": "stderr",
     "output_type": "stream",
     "text": [
      "\n",
      "[notice] A new release of pip available: 22.3 -> 23.0.1\n",
      "[notice] To update, run: python.exe -m pip install --upgrade pip\n"
     ]
    }
   ],
   "source": [
    "pip install numpy"
   ]
  },
  {
   "cell_type": "code",
   "execution_count": 2,
   "id": "d2475958-c13b-4c44-a0cd-19c63796af84",
   "metadata": {},
   "outputs": [],
   "source": [
    "\n",
    "import numpy as np"
   ]
  },
  {
   "cell_type": "code",
   "execution_count": 3,
   "id": "99cac3aa-8eb2-44e3-ba5a-84a95dd5c7a9",
   "metadata": {},
   "outputs": [
    {
     "name": "stdout",
     "output_type": "stream",
     "text": [
      "[1 2 3 4]\n",
      "<class 'numpy.ndarray'>\n"
     ]
    }
   ],
   "source": [
    "x=[1,2,3,4] #which is a list\n",
    "y=np.array(x)\n",
    "print(y)\n",
    "print(type(y))"
   ]
  },
  {
   "cell_type": "markdown",
   "id": "cd626011-f8ef-4f39-b03d-912785838ee1",
   "metadata": {},
   "source": [
    "<h1><b>The importance of NumPy in python</b></h1>"
   ]
  },
  {
   "cell_type": "markdown",
   "id": "37210352-0906-4124-8082-bd9e268a6c11",
   "metadata": {},
   "source": [
    "<ol>\n",
    "<li>wide variety of mathematical operations on arrays.</li>\n",
    "<li>it supplies and enormous library of high-level mathematical functions that operate on these arrays and matrices</li>\n",
    "<Li>mathematical, logical, shape manipulation, sorting, selecting, I/O, discrete FOurier transorms, basic linear algebra, basic staistical operation, random simulation and much more</li>\n",
    "</ol>"
   ]
  },
  {
   "cell_type": "markdown",
   "id": "063f081e-29a3-4a58-9d96-b9d6cb45a75e",
   "metadata": {},
   "source": [
    "##### l=[]\n",
    "for i in range (1,5):\n",
    "    x=input(\"Enter the value:\")\n",
    "    l.append(x)\n",
    "print(np.array(l))\n"
   ]
  },
  {
   "cell_type": "code",
   "execution_count": 4,
   "id": "c3faea68-066d-4a55-a5be-5984464ea093",
   "metadata": {},
   "outputs": [
    {
     "name": "stdout",
     "output_type": "stream",
     "text": [
      "[[1 2 3 4]\n",
      " [5 6 7 8]]\n",
      "<class 'numpy.ndarray'>\n",
      "the no. of dimension:\n",
      "\n",
      "2\n"
     ]
    }
   ],
   "source": [
    "#two dimensional array\n",
    "arr2=np.array([[1,2,3,4],[5,6,7,8]])\n",
    "print(arr2)\n",
    "print(type(arr2))\n",
    "print(\"the no. of dimension:\\n\")\n",
    "print(arr2.ndim)"
   ]
  },
  {
   "cell_type": "code",
   "execution_count": 5,
   "id": "d4ce1f69-37be-4d9f-8623-0d68e0b32eb9",
   "metadata": {},
   "outputs": [
    {
     "name": "stdout",
     "output_type": "stream",
     "text": [
      "[[[1 2 3 4]\n",
      "  [3 4 5 6]\n",
      "  [7 8 9 0]]]\n",
      "the no. of dimension:\n",
      "\n",
      "3\n"
     ]
    }
   ],
   "source": [
    "#three dimensional array\n",
    "arr3=np.array([[[1,2,3,4],[3,4,5,6],[7,8,9,0]]])\n",
    "print(arr3)\n",
    "print(\"the no. of dimension:\\n\")\n",
    "print(arr3.ndim)"
   ]
  },
  {
   "cell_type": "markdown",
   "id": "d340401b-f6ee-4a13-896c-3a9970486fe3",
   "metadata": {},
   "source": [
    "<h3>Zero</h3>\n"
   ]
  },
  {
   "cell_type": "code",
   "execution_count": 6,
   "id": "dce837c3-0f3d-4a47-ae4f-db88a8d5fec2",
   "metadata": {},
   "outputs": [
    {
     "name": "stdout",
     "output_type": "stream",
     "text": [
      "[0. 0. 0. 0.]\n"
     ]
    }
   ],
   "source": [
    "arr_zero=np.zeros(4)\n",
    "print(arr_zero)"
   ]
  },
  {
   "cell_type": "code",
   "execution_count": 7,
   "id": "a6bdfb1b-1943-4214-9689-97eef0d9cb87",
   "metadata": {},
   "outputs": [
    {
     "name": "stdout",
     "output_type": "stream",
     "text": [
      "[[0. 0. 0.]\n",
      " [0. 0. 0.]]\n"
     ]
    }
   ],
   "source": [
    "arr_zeros=np.zeros((2,3))\n",
    "print(arr_zeros)"
   ]
  },
  {
   "cell_type": "markdown",
   "id": "b905d817-4fcb-45fa-8fb6-709c3a0a408c",
   "metadata": {},
   "source": [
    "<h3>Ones</h3>"
   ]
  },
  {
   "cell_type": "code",
   "execution_count": 8,
   "id": "ac724d96-811a-4c69-97d3-588631eada84",
   "metadata": {},
   "outputs": [
    {
     "name": "stdout",
     "output_type": "stream",
     "text": [
      "[1. 1. 1. 1.]\n"
     ]
    }
   ],
   "source": [
    "arr_one=np.ones(4)\n",
    "print(arr_one)"
   ]
  },
  {
   "cell_type": "markdown",
   "id": "e417446d-4dd6-4eea-9d37-c0c7c772dac5",
   "metadata": {},
   "source": [
    "<h3>Empty</h3>\n"
   ]
  },
  {
   "cell_type": "code",
   "execution_count": 9,
   "id": "5e0bdce4-fbfd-4c7b-be28-5b541f42b57a",
   "metadata": {},
   "outputs": [
    {
     "name": "stdout",
     "output_type": "stream",
     "text": [
      "[1. 1. 1. 1.]\n"
     ]
    }
   ],
   "source": [
    "arr_empty=np.empty((4))\n",
    "print(arr_empty)"
   ]
  },
  {
   "cell_type": "markdown",
   "id": "4900e0e9-c396-493b-aac8-c504a6c51bbc",
   "metadata": {},
   "source": [
    "<h3>Range</h3>"
   ]
  },
  {
   "cell_type": "code",
   "execution_count": 10,
   "id": "2adf0ad0-5a2f-40b2-812d-376a7aa1cbc0",
   "metadata": {},
   "outputs": [
    {
     "name": "stdout",
     "output_type": "stream",
     "text": [
      "[0 1 2 3]\n"
     ]
    }
   ],
   "source": [
    "arr_range=np.arange(4)\n",
    "print(arr_range)"
   ]
  },
  {
   "cell_type": "markdown",
   "id": "f06a162f-8ab3-4a4b-8644-c6697333c596",
   "metadata": {},
   "source": [
    "<h3>Idenity Matrix</h3>"
   ]
  },
  {
   "cell_type": "code",
   "execution_count": 11,
   "id": "58aeed73-2cab-4d40-9c0e-2c7191d344af",
   "metadata": {},
   "outputs": [
    {
     "name": "stdout",
     "output_type": "stream",
     "text": [
      "[[1. 0. 0.]\n",
      " [0. 1. 0.]\n",
      " [0. 0. 1.]]\n"
     ]
    }
   ],
   "source": [
    "arr_diagonal=np.eye(3)\n",
    "print(arr_diagonal)"
   ]
  },
  {
   "cell_type": "code",
   "execution_count": 12,
   "id": "f1ab552b-d074-415c-b3c3-1799916e71a6",
   "metadata": {},
   "outputs": [
    {
     "name": "stdout",
     "output_type": "stream",
     "text": [
      "[[1. 0. 0. 0. 0.]\n",
      " [0. 1. 0. 0. 0.]\n",
      " [0. 0. 1. 0. 0.]]\n"
     ]
    }
   ],
   "source": [
    "arr_diagonal=np.eye(3,5)\n",
    "print(arr_diagonal)"
   ]
  },
  {
   "cell_type": "markdown",
   "id": "cf40561f-9f65-48e3-ac80-89db1021ace2",
   "metadata": {},
   "source": [
    "<h3>linspace</h3>\n"
   ]
  },
  {
   "cell_type": "code",
   "execution_count": 13,
   "id": "c1ff2ad6-1b76-4242-9f07-a8d7cfe90250",
   "metadata": {},
   "outputs": [
    {
     "name": "stdout",
     "output_type": "stream",
     "text": [
      "[ 0.   2.5  5.   7.5 10. ]\n"
     ]
    }
   ],
   "source": [
    "arr_space=np.linspace(0,10,num=5)\n",
    "print(arr_space)"
   ]
  },
  {
   "cell_type": "code",
   "execution_count": 14,
   "id": "0963c3db-8600-49f9-8d9c-f37f257227c3",
   "metadata": {},
   "outputs": [
    {
     "name": "stdout",
     "output_type": "stream",
     "text": [
      "[1. 2. 3. 4.]\n"
     ]
    }
   ],
   "source": [
    "arr_lin=np.linspace(1,4,num=4)\n",
    "print(arr_lin)"
   ]
  },
  {
   "cell_type": "code",
   "execution_count": 15,
   "id": "e89f9133-9e68-460f-bb8e-dba7c0a3cd04",
   "metadata": {},
   "outputs": [
    {
     "name": "stdout",
     "output_type": "stream",
     "text": [
      "[ 0.  5. 10. 15. 20.]\n"
     ]
    }
   ],
   "source": [
    "arr_space=np.linspace(0,20,num=5)\n",
    "print(arr_space)"
   ]
  },
  {
   "cell_type": "code",
   "execution_count": null,
   "id": "c3dd8922-b84b-49d2-b5fd-3de95d6f705c",
   "metadata": {},
   "outputs": [],
   "source": []
  },
  {
   "cell_type": "markdown",
   "id": "1a4696f1-7e80-49fa-8851-f828413c08ab",
   "metadata": {},
   "source": [
    "<h3>Arthematic operation</h3>\n"
   ]
  },
  {
   "cell_type": "code",
   "execution_count": 16,
   "id": "49661405-02c4-4f3e-b45a-a27a1f813dd9",
   "metadata": {},
   "outputs": [],
   "source": [
    "# np.add(a,b)\n",
    "# np.substract(a,b)\n",
    "# np.multiply(a,b)\n",
    "# np.divide(a,b)\n",
    "# np.mod(a,b)\n",
    "# np.power(a,b)\n",
    "# np.reciprocal(a)"
   ]
  },
  {
   "cell_type": "code",
   "execution_count": 17,
   "id": "85ac0ba8-9dac-46ef-936b-4a8d63d5e859",
   "metadata": {},
   "outputs": [
    {
     "name": "stdout",
     "output_type": "stream",
     "text": [
      "[3 5 7]\n"
     ]
    }
   ],
   "source": [
    "x=np.array([2,3,4])\n",
    "y=np.array([1,2,3])\n",
    "add=np.add(x,y)\n",
    "print(add)"
   ]
  },
  {
   "cell_type": "code",
   "execution_count": 18,
   "id": "e4032de7-860b-41f9-a5a5-d63886b0682a",
   "metadata": {},
   "outputs": [
    {
     "name": "stdout",
     "output_type": "stream",
     "text": [
      "[[2 3 4 5]\n",
      " [1 6 4 2]] \n",
      "\n",
      "[[3 4 5 6]\n",
      " [2 7 6 4]] \n",
      "\n",
      "[[ 5  7  9 11]\n",
      " [ 3 13 10  6]]\n",
      "\n",
      " \t\n",
      "[[ 5  7  9 11]\n",
      " [ 3 13 10  6]]\n"
     ]
    }
   ],
   "source": [
    "ar=np.array([[2,3,4,5],[1,6,4,2]])\n",
    "print(ar,\"\\n\")\n",
    "\n",
    "ar2=np.array([[3,4,5,6],[2,7,6,4]])\n",
    "print(ar2,\"\\n\")\n",
    "addd=np.add(ar,ar2)#one way to add\n",
    "print(addd)\n",
    "print(\"\\n \\t\")\n",
    "var=ar+ar2#another way to add\n",
    "print(var)"
   ]
  },
  {
   "cell_type": "code",
   "execution_count": 19,
   "id": "1feeb16d-a6f7-4dee-89ea-2e19dc7bce18",
   "metadata": {},
   "outputs": [
    {
     "name": "stdout",
     "output_type": "stream",
     "text": [
      "[[ 6 12 20 30]\n",
      " [ 2 42 24  8]]\n"
     ]
    }
   ],
   "source": [
    "ar=np.array([[2,3,4,5],[1,6,4,2]])\n",
    "ar2=np.array([[3,4,5,6],[2,7,6,4]])\n",
    "mul=np.multiply(ar,ar2)#one way to add\n",
    "print(mul)\n"
   ]
  },
  {
   "cell_type": "code",
   "execution_count": 20,
   "id": "9552cefe-8f24-4ed3-940a-8ec5a200c55c",
   "metadata": {},
   "outputs": [
    {
     "name": "stdout",
     "output_type": "stream",
     "text": [
      "min: 1  place of the min. value: 4\n",
      "max: 6  place of the max. value: 5\n"
     ]
    }
   ],
   "source": [
    "print(\"min:\",np.min(ar),\" place of the min. value:\",np.argmin(ar))\n",
    "print(\"max:\",np.max(ar),\" place of the max. value:\",np.argmax(ar))"
   ]
  },
  {
   "cell_type": "code",
   "execution_count": 21,
   "id": "c3f0decb-0be7-4a68-b62c-1f9512ac7f57",
   "metadata": {},
   "outputs": [
    {
     "name": "stdout",
     "output_type": "stream",
     "text": [
      "min: [2 1]\n"
     ]
    }
   ],
   "source": [
    "print(\"min:\",np.min(ar,axis=1))"
   ]
  },
  {
   "cell_type": "code",
   "execution_count": 22,
   "id": "8198667a-82e5-4909-991e-769c676f440a",
   "metadata": {},
   "outputs": [
    {
     "name": "stdout",
     "output_type": "stream",
     "text": [
      "min: [1 3 4 2]\n"
     ]
    }
   ],
   "source": [
    "print(\"min:\",np.min(ar,axis=0))\n",
    "#in term of column the minimum number in the column will be selected "
   ]
  },
  {
   "cell_type": "code",
   "execution_count": 23,
   "id": "9084928b-9cc7-4baa-99bf-c87637c48cc0",
   "metadata": {},
   "outputs": [
    {
     "name": "stdout",
     "output_type": "stream",
     "text": [
      "[[1. 4. 2.]\n",
      " [3. 5. 6.]]\n"
     ]
    }
   ],
   "source": [
    "#finding the sq. root of the array\n",
    "ar1=np.array([[1,16,4],[9,25,36]])\n",
    "ar2=np.sqrt(ar1)\n",
    "print(ar2)\n"
   ]
  },
  {
   "cell_type": "code",
   "execution_count": 24,
   "id": "6d853e18-3ebe-4a94-801b-d39e194da674",
   "metadata": {},
   "outputs": [
    {
     "name": "stdout",
     "output_type": "stream",
     "text": [
      "[-0.98803162  0.89399666  0.          0.00159265  0.99999968]\n"
     ]
    }
   ],
   "source": [
    "\n",
    "ar3=np.array([30,90,0,3.14,1.57])\n",
    "ans=np.sin(ar3)#in radian\n",
    "print(ans)"
   ]
  },
  {
   "cell_type": "code",
   "execution_count": 25,
   "id": "20ce0818-5535-4b02-8f46-c6ac4222e778",
   "metadata": {},
   "outputs": [
    {
     "name": "stdout",
     "output_type": "stream",
     "text": [
      "[ 2  5  9 14]\n"
     ]
    }
   ],
   "source": [
    "cumsum=np.array([2,3,4,5])\n",
    "out=np.cumsum(cumsum)#algorithm=2,2+3,2+3+4,and likewise\n",
    "print(out)\n"
   ]
  },
  {
   "cell_type": "markdown",
   "id": "94081d9b-92e9-4ef1-ac61-fd005f8f9112",
   "metadata": {},
   "source": [
    "<h3>Shapes and Reshapes</h3>"
   ]
  },
  {
   "cell_type": "code",
   "execution_count": 26,
   "id": "f9b37c22-fff8-4e0c-be3f-7cf7fb2ac7a0",
   "metadata": {},
   "outputs": [
    {
     "name": "stdout",
     "output_type": "stream",
     "text": [
      "[[1 2 3 4]\n",
      " [2 3 5 6]]\n",
      "\n",
      "\n",
      "The shape of the variable: (2, 4)\n"
     ]
    }
   ],
   "source": [
    "#firt we taling about shape\n",
    "variable=np.array([[1,2,3,4],[2,3,5,6]])\n",
    "print(variable)\n",
    "print(\"\\n\")\n",
    "print(\"The shape of the variable:\",variable.shape)\n"
   ]
  },
  {
   "cell_type": "code",
   "execution_count": 27,
   "id": "68021e90-3c1a-4b5a-89b6-b93badf8eb99",
   "metadata": {},
   "outputs": [
    {
     "name": "stdout",
     "output_type": "stream",
     "text": [
      "[[[[1 2 3 4]]]]\n",
      "the no. of dimension= 4\n",
      "the shape of the variable: (1, 1, 1, 4)\n"
     ]
    }
   ],
   "source": [
    "var1=np.array([1,2,3,4],ndmin=4)\n",
    "print(var1)\n",
    "print(\"the no. of dimension=\",var1.ndim)\n",
    "print(\"the shape of the variable:\",var1.shape)#result=(1,1,1,4),here 4 column in that 4 dimension and 1,1,1 are the rows that was in that diff. dimension "
   ]
  },
  {
   "cell_type": "markdown",
   "id": "4016a09e-c520-47f4-b65e-2a425bac1fc5",
   "metadata": {},
   "source": [
    "<h3>reshape</h3>"
   ]
  },
  {
   "cell_type": "code",
   "execution_count": 28,
   "id": "cb7c0c62-3802-44f7-b1f7-124026a5718c",
   "metadata": {},
   "outputs": [
    {
     "name": "stdout",
     "output_type": "stream",
     "text": [
      "before the dimension was: 1\n",
      "[1 2 3 4 7 4]\n",
      "\n",
      "[[1 2 3]\n",
      " [4 7 4]]\n",
      "after reshaping the dim. is: 2\n"
     ]
    }
   ],
   "source": [
    "var2=np.array([1,2,3,4,7,4])\n",
    "print(\"before the dimension was:\",var2.ndim)\n",
    "print(var2)\n",
    "print()\n",
    "resh=var2.reshape(2,3)#reshape(row,col) enter row,col i.e required\n",
    "print(resh)\n",
    "\n",
    "print(\"after reshaping the dim. is:\",resh.ndim)"
   ]
  },
  {
   "cell_type": "code",
   "execution_count": 29,
   "id": "89c38edf-0c0b-4a62-a178-e3e2d135c0a5",
   "metadata": {},
   "outputs": [
    {
     "name": "stdout",
     "output_type": "stream",
     "text": [
      "[ 1  2  3  4  5  6  7  8  9 10 12 11]\n",
      "\n",
      "[[[ 1  2]\n",
      "  [ 3  4]\n",
      "  [ 5  6]]\n",
      "\n",
      " [[ 7  8]\n",
      "  [ 9 10]\n",
      "  [12 11]]]\n",
      "the dimension after reshaping: 3\n",
      "\n",
      "[ 1  2  3  4  5  6  7  8  9 10 12 11]\n",
      "1\n"
     ]
    }
   ],
   "source": [
    "var3=np.array([1,2,3,4,5,6,7,8,9,10,12,11])\n",
    "print(var3)\n",
    "print()\n",
    "newdim=var3.reshape(2,3,2)\n",
    "print(newdim)\n",
    "print(\"the dimension after reshaping:\",newdim.ndim)\n",
    "print()\n",
    "onedim=newdim.reshape(-1)#after passing -1 we can reshape in 1d array\n",
    "print(onedim)\n",
    "print(onedim.ndim)\n",
    "               "
   ]
  },
  {
   "cell_type": "markdown",
   "id": "55a1bf76-297d-4e46-8abf-0aaac0141cc7",
   "metadata": {},
   "source": [
    "<h3>Broadcasting</h3>"
   ]
  },
  {
   "cell_type": "code",
   "execution_count": 30,
   "id": "2072ddb5-f8f5-4d77-a4a7-baa42b120197",
   "metadata": {},
   "outputs": [],
   "source": [
    "var1=np.array([1,2,3,4])\n",
    "var2=np.array([1,2,3])\n",
    "#print(var1+var2)  #while printing this we find the error \n"
   ]
  },
  {
   "cell_type": "code",
   "execution_count": 31,
   "id": "46465892-0860-48c6-a029-cfe0aa3507ab",
   "metadata": {},
   "outputs": [
    {
     "name": "stdout",
     "output_type": "stream",
     "text": [
      "[1 2 3]\n",
      "(3,)\n",
      "\n",
      "[[1]\n",
      " [2]\n",
      " [3]]\n",
      "(3, 1)\n",
      "\n",
      "[[2 3 4]\n",
      " [3 4 5]\n",
      " [4 5 6]]\n"
     ]
    }
   ],
   "source": [
    "ar1=np.array([1,2,3])\n",
    "ar2=np.array([[1],[2],[3]])\n",
    "print(ar1)\n",
    "print(ar1.shape)\n",
    "print()\n",
    "print(ar2)\n",
    "print(ar2.shape)\n",
    "print()\n",
    "print(ar1+ar2)\n"
   ]
  },
  {
   "cell_type": "markdown",
   "id": "232c7480-4586-46cf-a5b8-b2e12bb3dff2",
   "metadata": {},
   "source": [
    "<h3>Slicing</h3>\n"
   ]
  },
  {
   "cell_type": "code",
   "execution_count": 32,
   "id": "c2e39105-23f6-4113-8662-d4ff9fd10a7f",
   "metadata": {},
   "outputs": [
    {
     "name": "stdout",
     "output_type": "stream",
     "text": [
      "[1 2 3 4]\n",
      "\n",
      "after slicing the result is like this as shown below:\n",
      "[1 2 3]\n"
     ]
    }
   ],
   "source": [
    "arr=np.array([1,2,3,4])\n",
    "print(arr)\n",
    "print()\n",
    "print(\"after slicing the result is like this as shown below:\")\n",
    "print(arr[:3])\n"
   ]
  },
  {
   "cell_type": "code",
   "execution_count": 33,
   "id": "fa2e90f1-da08-46d7-8fcc-b1a1d0a7fd60",
   "metadata": {},
   "outputs": [
    {
     "name": "stdout",
     "output_type": "stream",
     "text": [
      "[[1 2 3 4 6]\n",
      " [2 3 4 5 6]\n",
      " [8 7 6 5 3]\n",
      " [2 3 4 5 6]]\n",
      "\n",
      "[[1 3 6]\n",
      " [8 6 3]]\n"
     ]
    }
   ],
   "source": [
    "#for the 2d, 3d slicing can be done in same ways\n",
    "ar1=np.array([[1,2,3,4,6],[2,3,4,5,6],[8,7,6,5,3],[2,3,4,5,6]])\n",
    "print(ar1)\n",
    "print()\n",
    "print(ar1[0:3:2,0:5:2])\n",
    "#array[row,column]\n"
   ]
  },
  {
   "cell_type": "code",
   "execution_count": 34,
   "id": "8d9f1005-341f-4458-908c-d92ee8af1248",
   "metadata": {},
   "outputs": [
    {
     "name": "stdout",
     "output_type": "stream",
     "text": [
      "[[[1 2 3 4]\n",
      "  [2 3 4 5]\n",
      "  [4 5 6 7]\n",
      "  [6 7 8 9]]]\n"
     ]
    }
   ],
   "source": [
    "ar3=np.array([[[1,2,3,4],[2,3,4,5],[4,5,6,7],[6,7,8,9]]])\n",
    "print(ar3)"
   ]
  },
  {
   "cell_type": "markdown",
   "id": "c6625cc0-4b51-4591-abd0-233c2e4d21a3",
   "metadata": {},
   "source": [
    "<h3>Iteration</h3>"
   ]
  },
  {
   "cell_type": "code",
   "execution_count": 35,
   "id": "d18c5159-ea8a-4c1f-8a4e-ac3ddb139cf0",
   "metadata": {},
   "outputs": [
    {
     "name": "stdout",
     "output_type": "stream",
     "text": [
      "[1 2 3 4 5 6]\n",
      "\n",
      "1\n",
      "2\n",
      "3\n",
      "4\n",
      "5\n",
      "6\n"
     ]
    }
   ],
   "source": [
    "variable=np.array([1,2,3,4,5,6])\n",
    "print(variable)\n",
    "print()\n",
    "for i in variable:\n",
    "    print(i)"
   ]
  },
  {
   "cell_type": "code",
   "execution_count": 36,
   "id": "c889120c-b679-47fd-bf85-3e77ba906c01",
   "metadata": {},
   "outputs": [
    {
     "name": "stdout",
     "output_type": "stream",
     "text": [
      "[[1 2 3 4 5]\n",
      " [3 4 5 6 7]]\n",
      "\n",
      "1\n",
      "2\n",
      "3\n",
      "4\n",
      "5\n",
      "\n",
      "3\n",
      "4\n",
      "5\n",
      "6\n",
      "7\n",
      "\n"
     ]
    }
   ],
   "source": [
    "var=np.array([[1,2,3,4,5],[3,4,5,6,7]])\n",
    "print(var)\n",
    "print()\n",
    "for i in var:\n",
    "    for j in i:\n",
    "        print(j)\n",
    "    print()"
   ]
  },
  {
   "cell_type": "code",
   "execution_count": 37,
   "id": "4cdce4a2-4b0d-408f-ab10-9b54c2719ee6",
   "metadata": {},
   "outputs": [
    {
     "name": "stdout",
     "output_type": "stream",
     "text": [
      "[[[1 2 3 4 5]\n",
      "  [3 4 5 6 7]]]\n",
      "\n",
      "1\n",
      "2\n",
      "3\n",
      "4\n",
      "5\n",
      "3\n",
      "4\n",
      "5\n",
      "6\n",
      "7\n",
      "\n"
     ]
    }
   ],
   "source": [
    "var=np.array([[[1,2,3,4,5],[3,4,5,6,7]]])\n",
    "print(var)\n",
    "print()\n",
    "for i in var:\n",
    "    for j in i:\n",
    "        for k in j:\n",
    "            print(k)\n",
    "    print()"
   ]
  },
  {
   "cell_type": "code",
   "execution_count": 38,
   "id": "5d99e14c-41c0-4dc3-9dd7-2628e7add8aa",
   "metadata": {},
   "outputs": [
    {
     "name": "stdout",
     "output_type": "stream",
     "text": [
      "1\n",
      "2\n",
      "3\n",
      "4\n",
      "5\n",
      "3\n",
      "4\n",
      "5\n",
      "6\n",
      "7\n"
     ]
    }
   ],
   "source": [
    "#nditer function\n",
    "\n",
    "var=np.array([[[1,2,3,4,5],[3,4,5,6,7]]])\n",
    "for i in np.nditer(var):\n",
    "    print(i)"
   ]
  },
  {
   "cell_type": "code",
   "execution_count": 39,
   "id": "8877fff2-cccd-4ca2-a7d5-558b64d7a10c",
   "metadata": {},
   "outputs": [
    {
     "name": "stdout",
     "output_type": "stream",
     "text": [
      "b'1'\n",
      "b'2'\n",
      "b'3'\n",
      "b'4'\n",
      "b'5'\n",
      "b'3'\n",
      "b'4'\n",
      "b'5'\n",
      "b'6'\n",
      "b'7'\n"
     ]
    }
   ],
   "source": [
    "\n",
    "var=np.array([[[1,2,3,4,5],[3,4,5,6,7]]])\n",
    "for i in np.nditer(var,flags=['buffered'],op_dtypes=[\"S\"]):\n",
    "    print(i)"
   ]
  },
  {
   "cell_type": "code",
   "execution_count": 40,
   "id": "0ec55560-8572-4e23-a40f-1bdf07756110",
   "metadata": {},
   "outputs": [
    {
     "name": "stdout",
     "output_type": "stream",
     "text": [
      "(0, 0, 0) 1\n",
      "(0, 0, 1) 2\n",
      "(0, 0, 2) 3\n",
      "(0, 0, 3) 4\n",
      "(0, 0, 4) 5\n",
      "(0, 1, 0) 3\n",
      "(0, 1, 1) 4\n",
      "(0, 1, 2) 5\n",
      "(0, 1, 3) 6\n",
      "(0, 1, 4) 7\n"
     ]
    }
   ],
   "source": [
    "\n",
    "var=np.array([[[1,2,3,4,5],[3,4,5,6,7]]])\n",
    "for i,d in np.ndenumerate(var):\n",
    "    print(i,d) #this prints the both index and value in array"
   ]
  },
  {
   "cell_type": "code",
   "execution_count": null,
   "id": "12369eb7-7862-4daa-8b78-68c70cf9ac95",
   "metadata": {},
   "outputs": [],
   "source": []
  },
  {
   "cell_type": "markdown",
   "id": "f2f41838-6c0b-448f-abfa-a063ba40212d",
   "metadata": {},
   "source": [
    "<h3>Copy and View</h3>"
   ]
  },
  {
   "cell_type": "code",
   "execution_count": 41,
   "id": "5c4069a6-6336-44e0-b9c2-889851bedeef",
   "metadata": {},
   "outputs": [
    {
     "name": "stdout",
     "output_type": "stream",
     "text": [
      "[ 2  3 50  5  6]\n",
      "\n",
      "[2 3 4 5 6]\n"
     ]
    }
   ],
   "source": [
    "co=np.array([2,3,4,5,6])\n",
    "copy=co.copy()#array has been copied as a new variable and has its own data\n",
    "co[2]=50#this will not affect the copied array\n",
    "print(co)\n",
    "print()\n",
    "print(copy)"
   ]
  },
  {
   "cell_type": "code",
   "execution_count": 42,
   "id": "b5d0c9d4-eb82-4218-aa8c-74222e14736b",
   "metadata": {},
   "outputs": [
    {
     "name": "stdout",
     "output_type": "stream",
     "text": [
      "[ 8  5 30  2  1]\n",
      "\n",
      "[ 8  5 30  2  1]\n"
     ]
    }
   ],
   "source": [
    "vi=np.array([8,5,7,2,1])\n",
    "view=vi.view()#this access from the real variable and it doesn't have its own data\n",
    "vi[2]=30#since the veiw function access from the original data so it changes on both vairable\n",
    "print(vi)\n",
    "print()\n",
    "print(view)"
   ]
  },
  {
   "cell_type": "code",
   "execution_count": null,
   "id": "b060c761-d0cd-4f74-8159-99c645fba174",
   "metadata": {},
   "outputs": [],
   "source": []
  },
  {
   "cell_type": "markdown",
   "id": "a7bdd378-21d9-450f-bbcd-e913d5740b0a",
   "metadata": {},
   "source": [
    "<h3>Joining & Split NumPY Arrays</h3>"
   ]
  },
  {
   "cell_type": "code",
   "execution_count": 43,
   "id": "716abcd8-e1a3-4081-a486-5eab623f1e40",
   "metadata": {},
   "outputs": [
    {
     "name": "stdout",
     "output_type": "stream",
     "text": [
      "[1 2 3 4 5 6 7 8]\n"
     ]
    }
   ],
   "source": [
    "var=np.array([1,2,3,4])\n",
    "var2=np.array([5,6,7,8])\n",
    "con=np.concatenate((var,var2))\n",
    "print(con)"
   ]
  },
  {
   "cell_type": "code",
   "execution_count": 44,
   "id": "43d9cfa7-5055-4f08-9b5f-5d667e0bd826",
   "metadata": {},
   "outputs": [
    {
     "name": "stdout",
     "output_type": "stream",
     "text": [
      "[[1 2 3 5 6 7]\n",
      " [3 2 1 5 4 3]]\n",
      "\n",
      "[[1 2 3]\n",
      " [3 2 1]\n",
      " [5 6 7]\n",
      " [5 4 3]]\n"
     ]
    }
   ],
   "source": [
    "var=np.array([[1,2,3],[3,2,1]])\n",
    "var2=np.array([[5,6,7],[5,4,3]])\n",
    "con=np.concatenate((var,var2),axis=1)\n",
    "print(con)\n",
    "print()\n",
    "con_x=np.concatenate((var,var2),axis=0)\n",
    "print(con_x)"
   ]
  },
  {
   "cell_type": "code",
   "execution_count": 45,
   "id": "3f1ee0a4-b562-4ddf-b22f-4abab22f70b1",
   "metadata": {},
   "outputs": [
    {
     "name": "stdout",
     "output_type": "stream",
     "text": [
      "[[1 2 3 4]\n",
      " [5 6 7 8]]\n",
      "\n",
      "[[1 2 3 4]\n",
      " [5 6 7 8]]\n"
     ]
    }
   ],
   "source": [
    "var=np.array([1,2,3,4])\n",
    "var2=np.array([5,6,7,8])\n",
    "stack=np.stack((var,var2))\n",
    "print(stack)\n",
    "print()\n",
    "stack2=np.stack((var,var2),axis=1)\n",
    "print(stack)"
   ]
  },
  {
   "cell_type": "code",
   "execution_count": 46,
   "id": "03b21014-0ed2-44cc-bae9-8c9da729a5a2",
   "metadata": {},
   "outputs": [
    {
     "name": "stdout",
     "output_type": "stream",
     "text": [
      "[1 2 3 4 5 6 7 8]\n"
     ]
    }
   ],
   "source": [
    "stack_row=np.hstack((var,var2))\n",
    "print(stack_row)"
   ]
  },
  {
   "cell_type": "code",
   "execution_count": 47,
   "id": "c4aa3fca-b2fd-4213-88f6-85184836ed4f",
   "metadata": {},
   "outputs": [
    {
     "name": "stdout",
     "output_type": "stream",
     "text": [
      "[[1 2 3 4]\n",
      " [5 6 7 8]]\n"
     ]
    }
   ],
   "source": [
    "stack_column=np.vstack((var,var2))\n",
    "print(stack_column)"
   ]
  },
  {
   "cell_type": "code",
   "execution_count": 48,
   "id": "21b84be2-b158-473f-b663-300743894cbd",
   "metadata": {},
   "outputs": [
    {
     "name": "stdout",
     "output_type": "stream",
     "text": [
      "[[[1 5]\n",
      "  [2 6]\n",
      "  [3 7]\n",
      "  [4 8]]]\n"
     ]
    }
   ],
   "source": [
    "stack_height=np.dstack((var,var2))\n",
    "print(stack_height)"
   ]
  },
  {
   "cell_type": "markdown",
   "id": "71954a89-b4f3-4f20-a983-071681cc5fb9",
   "metadata": {},
   "source": [
    "<h4>split array</h4>"
   ]
  },
  {
   "cell_type": "code",
   "execution_count": 49,
   "id": "d7a9d9c0-8d57-4ec9-9997-bb2e8385b976",
   "metadata": {},
   "outputs": [
    {
     "name": "stdout",
     "output_type": "stream",
     "text": [
      "[4 5 6 7 8]\n",
      "\n",
      "[array([4, 5]), array([6, 7]), array([8])]\n",
      "<class 'list'>\n",
      "\n",
      "[4 5]\n"
     ]
    }
   ],
   "source": [
    "var=np.array([4,5,6,7,8])\n",
    "print(var)\n",
    "print()\n",
    "spl=np.array_split(var,3)\n",
    "print(spl)\n",
    "print(type(spl))\n",
    "print()\n",
    "print(spl[0])\n"
   ]
  },
  {
   "cell_type": "code",
   "execution_count": 50,
   "id": "0e854c07-4da3-493e-8a83-81968f06ad36",
   "metadata": {},
   "outputs": [
    {
     "name": "stdout",
     "output_type": "stream",
     "text": [
      "[[1 2 4]\n",
      " [2 3 4]\n",
      " [6 7 8]\n",
      " [4 5 2]]\n",
      "\n",
      "\n",
      "[array([[1, 2, 4],\n",
      "       [2, 3, 4]]), array([[6, 7, 8],\n",
      "       [4, 5, 2]])]\n",
      "\n",
      "[array([[1, 2, 4],\n",
      "       [2, 3, 4]]), array([[6, 7, 8]]), array([[4, 5, 2]])]\n"
     ]
    }
   ],
   "source": [
    "var2d=np.array([[1,2,4],[2,3,4],[6,7,8],[4,5,2]])\n",
    "print(var2d)\n",
    "print()\n",
    "splt_var=np.array_split(var2d,2)\n",
    "splt_var3=np.array_split(var2d,3)\n",
    "print()\n",
    "print(splt_var)\n",
    "print()\n",
    "print(splt_var3)\n"
   ]
  },
  {
   "cell_type": "code",
   "execution_count": null,
   "id": "2d5b9ce8-d8b8-4733-9c8c-e778bf7223d4",
   "metadata": {},
   "outputs": [],
   "source": []
  },
  {
   "cell_type": "markdown",
   "id": "21cb4349-c7bf-4dd6-9619-c72be3443141",
   "metadata": {},
   "source": [
    "<h3>Search</h3>\n"
   ]
  },
  {
   "cell_type": "code",
   "execution_count": 51,
   "id": "94d201c0-9647-475e-8800-eceaf2d52373",
   "metadata": {},
   "outputs": [
    {
     "name": "stdout",
     "output_type": "stream",
     "text": [
      "(array([ 6, 12], dtype=int64),)\n",
      "\n",
      "the elements of array being divisible by 2 positions are:\n",
      "(array([ 1,  3,  5,  8, 11], dtype=int64),)\n"
     ]
    }
   ],
   "source": [
    "var=np.array([1,2,3,4,5,6,7,5,4,3,9,2,7,9])\n",
    "x=np.where(var==7)\n",
    "print(x)\n",
    "print()\n",
    "x_by_two=np.where((var%2)==0)\n",
    "print(\"the elements of array being divisible by 2 positions are:\")\n",
    "print(x_by_two)"
   ]
  },
  {
   "cell_type": "code",
   "execution_count": 52,
   "id": "3ff73565-13f7-40e6-a4ab-40ca3beb0431",
   "metadata": {},
   "outputs": [
    {
     "name": "stdout",
     "output_type": "stream",
     "text": [
      "5\n"
     ]
    }
   ],
   "source": [
    "#seach sorted function\n",
    "var1=np.array([1,2,3,4,5,8,9])\n",
    "x=np.searchsorted(var1,6,side=\"right\")\n",
    "print(x)"
   ]
  },
  {
   "cell_type": "code",
   "execution_count": 53,
   "id": "2692d2ea-185d-47a2-9456-b45a19ebb517",
   "metadata": {},
   "outputs": [
    {
     "name": "stdout",
     "output_type": "stream",
     "text": [
      "[5 5]\n"
     ]
    }
   ],
   "source": [
    "var1=np.array([1,2,3,4,5,8,9])\n",
    "x=np.searchsorted(var1,[6,7],side=\"right\")\n",
    "print(x)"
   ]
  },
  {
   "cell_type": "markdown",
   "id": "9aa18545-eb39-4128-a008-1a9d5b2de100",
   "metadata": {},
   "source": [
    "<h3>SORT</h3>\n"
   ]
  },
  {
   "cell_type": "code",
   "execution_count": 54,
   "id": "c0abc040-8dbc-48a8-a56d-56f2815895c2",
   "metadata": {},
   "outputs": [
    {
     "name": "stdout",
     "output_type": "stream",
     "text": [
      "[ 1  2  2  4  5  7  9 11 22]\n"
     ]
    }
   ],
   "source": [
    "var=np.array([4,2,7,5,2,1,9,22,11])\n",
    "print(np.sort(var))"
   ]
  },
  {
   "cell_type": "code",
   "execution_count": 55,
   "id": "fdcb5ce9-a571-47dd-9144-39ad1ec9920b",
   "metadata": {},
   "outputs": [
    {
     "name": "stdout",
     "output_type": "stream",
     "text": [
      "['a' 'd' 'e' 's']\n"
     ]
    }
   ],
   "source": [
    "var=np.array(['s','a','e','d'])\n",
    "print(np.sort(var))"
   ]
  },
  {
   "cell_type": "code",
   "execution_count": 56,
   "id": "4b125fc8-b048-47b5-ad99-fdf2a5337f9d",
   "metadata": {},
   "outputs": [
    {
     "name": "stdout",
     "output_type": "stream",
     "text": [
      "[[ 2  4  7]\n",
      " [ 1  2  5]\n",
      " [ 9 11 22]\n",
      " [23 34 56]\n",
      " [45 56 76]]\n"
     ]
    }
   ],
   "source": [
    "var=np.array([[4,2,7],[5,2,1],[9,22,11],[34,23,56],[45,76,56]])\n",
    "print(np.sort(var))"
   ]
  },
  {
   "cell_type": "code",
   "execution_count": 57,
   "id": "6419f85c-af8a-42f9-ad18-cc1d192424e1",
   "metadata": {},
   "outputs": [
    {
     "name": "stdout",
     "output_type": "stream",
     "text": [
      "[ 2 55]\n"
     ]
    }
   ],
   "source": [
    "#filter array\n",
    "var_3=np.array([2,3,6,55])\n",
    "fltr=[True,False,False,True]\n",
    "new_a=var_3[fltr]\n",
    "print(new_a)"
   ]
  },
  {
   "cell_type": "code",
   "execution_count": 58,
   "id": "dc1af14a-de11-4bbc-a238-1a90bd92fc20",
   "metadata": {},
   "outputs": [
    {
     "name": "stdout",
     "output_type": "stream",
     "text": [
      "[2 3 6 4 7]\n"
     ]
    }
   ],
   "source": [
    "#array shuffle\n",
    "var=np.array([3,6,2,4,7])\n",
    "np.random.shuffle(var)\n",
    "print(var)"
   ]
  },
  {
   "cell_type": "code",
   "execution_count": 59,
   "id": "db20087a-4164-45dc-8a00-4d479db64b7e",
   "metadata": {},
   "outputs": [
    {
     "name": "stdout",
     "output_type": "stream",
     "text": [
      "(array([1, 2, 3, 4, 6, 7, 9]), array([7, 2, 0, 3, 1, 4, 6], dtype=int64), array([1, 2, 2, 2, 1, 1, 2], dtype=int64))\n"
     ]
    }
   ],
   "source": [
    "#unique\n",
    "var=np.array([3,6,2,4,7,4,9,1,2,3,9])\n",
    "x=np.unique(var,return_index=True,return_counts=True)\n",
    "print(x)"
   ]
  },
  {
   "cell_type": "code",
   "execution_count": 60,
   "id": "4d00086d-5059-43d9-91d5-60b2b6618730",
   "metadata": {},
   "outputs": [
    {
     "name": "stdout",
     "output_type": "stream",
     "text": [
      "[[2 4 1]\n",
      " [5 7 7]]\n"
     ]
    }
   ],
   "source": [
    "var2=np.array([2,4,1,5,7,7,9])\n",
    "y=np.resize(var2,(2,3))\n",
    "print(y)"
   ]
  },
  {
   "cell_type": "markdown",
   "id": "537298cb-e6f3-4a72-9727-1ca4f293fd71",
   "metadata": {},
   "source": [
    "Arithemtic Functions \n",
    "order:{'C','F','A','K'}, optional\n",
    "'C' means to flatten in row-major (C-style) order\n",
    "'F' means to flatten in column-major (FOrtran-style) order.\n",
    "'A' means to flatten in column-major order if 'a' is Fortran *contigous* in memory,row-major order othrerwise\n",
    "'K' means to flatten 'a' in the ordder the elements occur in memory \n",
    "the default is 'C'\n"
   ]
  },
  {
   "cell_type": "code",
   "execution_count": 61,
   "id": "658bc8d4-99be-411c-84be-aa4ba49b8867",
   "metadata": {},
   "outputs": [
    {
     "name": "stdout",
     "output_type": "stream",
     "text": [
      "[[2 4 1]\n",
      " [5 7 7]]\n",
      "\n",
      "[2 4 1 5 7 7]\n",
      "\n",
      "[2 5 4 7 1 7]\n",
      "\n",
      "Ravel: [2 4 1 5 7 7]\n",
      "\n",
      "Ravel: [2 5 4 7 1 7]\n"
     ]
    }
   ],
   "source": [
    "var2=np.array([2,4,1,5,7,7,9])\n",
    "y=np.resize(var2,(2,3))\n",
    "print(y)\n",
    "print()\n",
    "print(y.flatten('c'))\n",
    "print()\n",
    "print(y.flatten('F'))\n",
    "print()\n",
    "print(\"Ravel:\",np.ravel(y))\n",
    "print()\n",
    "print(\"Ravel:\",np.ravel(y,order='f'))"
   ]
  },
  {
   "cell_type": "markdown",
   "id": "59700db2-c5b0-44fb-aad7-3d7373c6fa1c",
   "metadata": {},
   "source": [
    "<h3>Insert</h3>"
   ]
  },
  {
   "cell_type": "code",
   "execution_count": 62,
   "id": "8d39aebb-2f0a-4aa9-8b43-e32acf5a5487",
   "metadata": {},
   "outputs": [
    {
     "name": "stdout",
     "output_type": "stream",
     "text": [
      "[ 2 20  3  4  5  6]\n"
     ]
    }
   ],
   "source": [
    "var=np.array([2,3,4,5,6])\n",
    "v=np.insert(var,1,20)\n",
    "print(v)\n"
   ]
  },
  {
   "cell_type": "code",
   "execution_count": 63,
   "id": "b76dc1e7-be6e-4944-8a6c-0df5f1e97b28",
   "metadata": {},
   "outputs": [
    {
     "name": "stdout",
     "output_type": "stream",
     "text": [
      "[ 2 20  3  4  5 20  6]\n"
     ]
    }
   ],
   "source": [
    "var=np.array([2,3,4,5,6])\n",
    "v=np.insert(var,(1,4),20)\n",
    "print(v)"
   ]
  },
  {
   "cell_type": "code",
   "execution_count": 64,
   "id": "774d045b-9573-4b59-b1c0-dc4292d4a239",
   "metadata": {},
   "outputs": [
    {
     "name": "stdout",
     "output_type": "stream",
     "text": [
      "[[1 2 3]\n",
      " [4 5 6]]\n",
      "\n",
      "[[1 2 4 3]\n",
      " [4 5 4 6]]\n",
      "\n",
      "[1 2 4 3 4 5 6]\n",
      "\n",
      "[[1 2 3]\n",
      " [4 5 6]\n",
      " [4 4 4]]\n",
      "\n",
      "[[1 2 3]\n",
      " [4 5 6]\n",
      " [4 7 8]]\n"
     ]
    }
   ],
   "source": [
    "var=np.array([[1,2,3],[4,5,6]])\n",
    "print(var)\n",
    "print()\n",
    "\n",
    "var1=np.insert(var,2,4,axis=1)\n",
    "print(var1)\n",
    "print()\n",
    "var1=np.insert(var,2,4)\n",
    "print(var1)\n",
    "print()\n",
    "var1=np.insert(var,2,4,axis=0)\n",
    "print(var1)\n",
    "print()\n",
    "var1=np.insert(var,2,(4,7,8),axis=0)\n",
    "print(var1)"
   ]
  },
  {
   "cell_type": "code",
   "execution_count": 65,
   "id": "fb063722-019c-4437-93df-23bd0ab6b582",
   "metadata": {},
   "outputs": [
    {
     "name": "stdout",
     "output_type": "stream",
     "text": [
      "append function\n",
      "\n",
      "[3 4 1 5 6 4]\n",
      "\n",
      "[3.  4.  1.  5.  6.  5.4]\n"
     ]
    }
   ],
   "source": [
    "#append\n",
    "print(\"append function\")\n",
    "print()\n",
    "var=np.array([3,4,1,5,6])\n",
    "print(np.append(var,4))\n",
    "print()\n",
    "print(np.append(var,5.4))"
   ]
  },
  {
   "cell_type": "code",
   "execution_count": 67,
   "id": "5d796581-5907-4ab2-8988-407fa55ff622",
   "metadata": {},
   "outputs": [
    {
     "name": "stdout",
     "output_type": "stream",
     "text": [
      "[[3 4 5]\n",
      " [6 5 1]]\n",
      "\n",
      "[3 4 5 6 5 1 4]\n",
      "\n",
      "[[3 4 5]\n",
      " [6 5 1]\n",
      " [4 5 6]]\n",
      "\n"
     ]
    }
   ],
   "source": [
    "var=np.array([[3,4,5],[6,5,1]])\n",
    "print(var)\n",
    "print()\n",
    "var_append=np.append(var,4)\n",
    "print(var_append)\n",
    "print()\n",
    "var_append=np.append(var,[[4,5,6]],axis=0)\n",
    "print(var_append)\n",
    "print()\n"
   ]
  },
  {
   "cell_type": "markdown",
   "id": "3828cc53-fbd1-4db0-b7f1-814a344c631e",
   "metadata": {},
   "source": [
    "<h2>MATRIX</h2>"
   ]
  },
  {
   "cell_type": "code",
   "execution_count": 70,
   "id": "f2ac707d-0e1d-450d-a9e8-d010b754e4c1",
   "metadata": {},
   "outputs": [
    {
     "name": "stdout",
     "output_type": "stream",
     "text": [
      "[[1 2 3]\n",
      " [4 5 6]]\n",
      "<class 'numpy.ndarray'>\n"
     ]
    }
   ],
   "source": [
    "var=np.array([[1,2,3],[4,5,6]])\n",
    "print(var)\n",
    "print(type(var))"
   ]
  },
  {
   "cell_type": "code",
   "execution_count": 71,
   "id": "cf5f20cf-1c57-4705-91ea-9cb1f2e7e6f8",
   "metadata": {},
   "outputs": [
    {
     "name": "stdout",
     "output_type": "stream",
     "text": [
      "[[1 2 3]\n",
      " [4 5 6]]\n",
      "<class 'numpy.matrix'>\n"
     ]
    }
   ],
   "source": [
    "var=np.matrix([[1,2,3],[4,5,6]])\n",
    "print(var)\n",
    "print(type(var))\n",
    "\n",
    "#there output looks same but its types are different as it's shown there"
   ]
  },
  {
   "cell_type": "code",
   "execution_count": 88,
   "id": "64a49c1e-705d-4de8-99e1-2e25a0f8c996",
   "metadata": {},
   "outputs": [
    {
     "name": "stdout",
     "output_type": "stream",
     "text": [
      "var:\n",
      "[[1 2]\n",
      " [3 4]]\n",
      "\n",
      "var2:\n",
      "[[5 6 7]\n",
      " [2 3 4]]\n",
      "\n",
      "[[ 9 12 15]\n",
      " [23 30 37]]\n",
      "likewise we can also do the same operation by using dot operation\n",
      "[[ 9 12 15]\n",
      " [23 30 37]]\n"
     ]
    }
   ],
   "source": [
    "var=np.matrix([[1,2],[3,4]])\n",
    "var2=np.matrix([[5,6,7],[2,3,4]])\n",
    "print(\"var:\")\n",
    "print(var)\n",
    "print()\n",
    "print(\"var2:\")\n",
    "print(var2)\n",
    "print()\n",
    "var3=var*var2\n",
    "print(var3)\n",
    "print(\"likewise we can also do the same operation by using dot operation\")\n",
    "print(var.dot(var2))"
   ]
  },
  {
   "cell_type": "code",
   "execution_count": 92,
   "id": "07a6604a-fe61-4d69-a730-e7cb7e4103e1",
   "metadata": {},
   "outputs": [
    {
     "name": "stdout",
     "output_type": "stream",
     "text": [
      "[[1 2 3]\n",
      " [3 4 5]]\n",
      "\n",
      "after transposing the matrix:\n",
      "[[1 3]\n",
      " [2 4]\n",
      " [3 5]]\n",
      "\n",
      "or else we can also transpose like this:\n",
      "[[1 3]\n",
      " [2 4]\n",
      " [3 5]]\n"
     ]
    }
   ],
   "source": [
    "var=np.matrix([[1,2,3],[3,4,5]])\n",
    "print(var)\n",
    "print()\n",
    "print(\"after transposing the matrix:\")\n",
    "print(np.transpose(var))\n",
    "print()\n",
    "print(\"or else we can also transpose like this:\")\n",
    "print(var.T)"
   ]
  },
  {
   "cell_type": "code",
   "execution_count": 103,
   "id": "652774ea-e75c-4361-8a55-5905864d7ab1",
   "metadata": {},
   "outputs": [
    {
     "name": "stdout",
     "output_type": "stream",
     "text": [
      "[[5 6 7]\n",
      " [2 3 4]]\n",
      "\n",
      "[[5 2]\n",
      " [6 3]\n",
      " [7 4]]\n"
     ]
    }
   ],
   "source": [
    "var2=np.matrix([[5,6,7],[2,3,4]])\n",
    "print(var2)\n",
    "print()\n",
    "print(np.swapaxes(var2,0,1))"
   ]
  },
  {
   "cell_type": "code",
   "execution_count": 107,
   "id": "e87aa112-1c5a-4161-b696-11ac3a723afb",
   "metadata": {},
   "outputs": [
    {
     "name": "stdout",
     "output_type": "stream",
     "text": [
      "[[1 2]\n",
      " [3 4]]\n",
      "we need to go through linear algebras inverse function soo linalg.inv function is used\n",
      "[[-2.   1. ]\n",
      " [ 1.5 -0.5]]\n"
     ]
    }
   ],
   "source": [
    "var=np.array([[1,2],[3,4]])\n",
    "print(var)\n",
    "print(\"we need to go through linear algebras inverse function soo linalg.inv function is used\")\n",
    "print(np.linalg.inv(var))"
   ]
  },
  {
   "cell_type": "code",
   "execution_count": 116,
   "id": "00d7c2a1-9f78-4f36-a4aa-b618aa61cebe",
   "metadata": {},
   "outputs": [
    {
     "name": "stdout",
     "output_type": "stream",
     "text": [
      "[[1 2]\n",
      " [3 4]]\n",
      "\n",
      "[[ 7 10]\n",
      " [15 22]]\n",
      "\n",
      "[[ 7 10]\n",
      " [15 22]]\n"
     ]
    }
   ],
   "source": [
    "var=np.array([[1,2],[3,4]])\n",
    "print(var)\n",
    "print()\n",
    "print(np.dot(var,var))\n",
    "print()\n",
    "print(np.linalg.matrix_power(var,2))"
   ]
  },
  {
   "cell_type": "code",
   "execution_count": 117,
   "id": "bed84235-3c71-4cea-a4b3-66c08f63179d",
   "metadata": {},
   "outputs": [
    {
     "name": "stdout",
     "output_type": "stream",
     "text": [
      "[[1 2]\n",
      " [3 4]]\n",
      "\n",
      "[[1 0]\n",
      " [0 1]]\n"
     ]
    }
   ],
   "source": [
    "var=np.array([[1,2],[3,4]])\n",
    "print(var)\n",
    "print()\n",
    "\n",
    "print(np.linalg.matrix_power(var,0))"
   ]
  },
  {
   "cell_type": "code",
   "execution_count": 119,
   "id": "7b4c6070-0df3-4130-9f55-a52520050b61",
   "metadata": {},
   "outputs": [
    {
     "name": "stdout",
     "output_type": "stream",
     "text": [
      "[[-2.   1. ]\n",
      " [ 1.5 -0.5]]\n"
     ]
    }
   ],
   "source": [
    "print(np.linalg.matrix_power(var,-1))"
   ]
  },
  {
   "cell_type": "code",
   "execution_count": 121,
   "id": "9648c762-48a0-4ea7-b606-36dcbb15a5e2",
   "metadata": {},
   "outputs": [
    {
     "name": "stdout",
     "output_type": "stream",
     "text": [
      "-2.0000000000000004\n"
     ]
    }
   ],
   "source": [
    "print(np.linalg.det(var))"
   ]
  },
  {
   "cell_type": "code",
   "execution_count": 122,
   "id": "8776e86c-f29c-4fd8-ab8e-fb992554fa23",
   "metadata": {},
   "outputs": [
    {
     "name": "stdout",
     "output_type": "stream",
     "text": [
      "[[[1 2 3]\n",
      "  [3 4 3]\n",
      "  [1 2 3]]]\n",
      "\n",
      "[0.]\n"
     ]
    }
   ],
   "source": [
    "var=np.array([[[1,2,3],[3,4,3],[1,2,3]]])\n",
    "print(var)\n",
    "print()\n",
    "print(np.linalg.det(var))"
   ]
  },
  {
   "cell_type": "code",
   "execution_count": null,
   "id": "70d2f760-85a8-4b46-8435-f38142c3096e",
   "metadata": {},
   "outputs": [],
   "source": []
  }
 ],
 "metadata": {
  "kernelspec": {
   "display_name": "Python 3 (ipykernel)",
   "language": "python",
   "name": "python3"
  },
  "language_info": {
   "codemirror_mode": {
    "name": "ipython",
    "version": 3
   },
   "file_extension": ".py",
   "mimetype": "text/x-python",
   "name": "python",
   "nbconvert_exporter": "python",
   "pygments_lexer": "ipython3",
   "version": "3.11.0"
  }
 },
 "nbformat": 4,
 "nbformat_minor": 5
}
